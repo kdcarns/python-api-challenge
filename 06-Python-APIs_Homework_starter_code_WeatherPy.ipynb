{
 "cells": [
  {
   "cell_type": "markdown",
   "metadata": {},
   "source": [
    "# WeatherPy\n",
    "----\n",
    "\n",
    "#### Note\n",
    "* Instructions have been included for each segment. You do not have to follow them exactly, but they are included to help you think through the steps."
   ]
  },
  {
   "cell_type": "code",
   "execution_count": 11,
   "metadata": {},
   "outputs": [
    {
     "name": "stdout",
     "output_type": "stream",
     "text": [
      "Collecting RateLimiter\n",
      "  Downloading ratelimiter-1.2.0.post0-py3-none-any.whl (6.6 kB)\n",
      "Installing collected packages: RateLimiter\n",
      "Successfully installed RateLimiter-1.2.0.post0\n",
      "Note: you may need to restart the kernel to use updated packages.\n"
     ]
    }
   ],
   "source": [
    "pip install RateLimiter"
   ]
  },
  {
   "cell_type": "code",
   "execution_count": 15,
   "metadata": {
    "scrolled": true
   },
   "outputs": [],
   "source": [
    "# Dependencies and Setup\n",
    "import matplotlib.pyplot as plt\n",
    "import pandas as pd\n",
    "import numpy as np\n",
    "import requests\n",
    "import time\n",
    "import json\n",
    "import scipy.stats as st\n",
    "from scipy.stats import linregress\n",
    "\n",
    "# Import API key\n",
    "from api_keys import api_key\n",
    "\n",
    "# Incorporated citipy to determine city based on latitude and longitude\n",
    "from citipy import citipy\n",
    "\n",
    "# Output File (CSV)\n",
    "output_data_file = \"output_data/cities.csv\"\n",
    "\n",
    "# Range of latitudes and longitudes\n",
    "lat_range = (-90, 90)\n",
    "lng_range = (-180, 180)"
   ]
  },
  {
   "cell_type": "markdown",
   "metadata": {},
   "source": [
    "## Generate Cities List"
   ]
  },
  {
   "cell_type": "code",
   "execution_count": 16,
   "metadata": {},
   "outputs": [
    {
     "data": {
      "text/plain": [
       "607"
      ]
     },
     "execution_count": 16,
     "metadata": {},
     "output_type": "execute_result"
    }
   ],
   "source": [
    "# List for holding lat_lngs and cities\n",
    "lat_lngs = []\n",
    "cities = []\n",
    "\n",
    "# Create a set of random lat and lng combinations\n",
    "lats = np.random.uniform(lat_range[0], lat_range[1], size=1500)\n",
    "lngs = np.random.uniform(lng_range[0], lng_range[1], size=1500)\n",
    "lat_lngs = zip(lats, lngs)\n",
    "\n",
    "# Identify nearest city for each lat, lng combination\n",
    "for lat_lng in lat_lngs:\n",
    "    city = citipy.nearest_city(lat_lng[0], lat_lng[1]).city_name\n",
    "    \n",
    "    # If the city is unique, then add it to a our cities list\n",
    "    if city not in cities:\n",
    "        cities.append(city)\n",
    "\n",
    "# Print the city count to confirm sufficient count\n",
    "len(cities)"
   ]
  },
  {
   "cell_type": "markdown",
   "metadata": {},
   "source": [
    "### Perform API Calls\n",
    "* Perform a weather check on each city using a series of successive API calls.\n",
    "* Include a print log of each city as it'sbeing processed (with the city number and city name).\n"
   ]
  },
  {
   "cell_type": "code",
   "execution_count": 18,
   "metadata": {},
   "outputs": [],
   "source": [
    "city_name_list = []\n",
    "cloudiness_list = []\n",
    "country_list = []\n",
    "date_list = []\n",
    "humidity_list = []\n",
    "lat_list = []\n",
    "lng_list = []\n",
    "max_temp_list = []\n",
    "wind_speed_list = []\n",
    "index_counter = 0\n",
    "set_counter = 1"
   ]
  },
  {
   "cell_type": "code",
   "execution_count": 19,
   "metadata": {
    "scrolled": true
   },
   "outputs": [
    {
     "name": "stdout",
     "output_type": "stream",
     "text": [
      "Beginning Data Retrieval \n",
      "-----------------------------\n",
      "Processing Record 1 of Set 1 : ushuaia\n",
      "City not found. Skipping...\n",
      "Processing Record 2 of Set 1 : tuktoyaktuk\n",
      "Processing Record 3 of Set 1 : hermanus\n",
      "Processing Record 4 of Set 1 : mataura\n",
      "Processing Record 5 of Set 1 : port hedland\n",
      "Processing Record 6 of Set 1 : new norfolk\n",
      "Processing Record 7 of Set 1 : gizo\n",
      "Processing Record 8 of Set 1 : vaini\n",
      "Processing Record 9 of Set 1 : karratha\n",
      "Processing Record 10 of Set 1 : iqaluit\n",
      "Processing Record 11 of Set 1 : punta arenas\n",
      "Processing Record 12 of Set 1 : hay river\n",
      "Processing Record 13 of Set 1 : zhifang\n",
      "Processing Record 14 of Set 1 : xuddur\n",
      "Processing Record 15 of Set 1 : busselton\n",
      "Processing Record 16 of Set 1 : jamestown\n",
      "Processing Record 17 of Set 1 : havoysund\n",
      "Processing Record 18 of Set 1 : port lavaca\n",
      "Processing Record 19 of Set 1 : sutysky\n",
      "Processing Record 20 of Set 1 : kaitangata\n",
      "Processing Record 21 of Set 1 : lima\n",
      "Processing Record 22 of Set 1 : saint-pierre\n",
      "Processing Record 23 of Set 1 : kattivakkam\n",
      "Processing Record 24 of Set 1 : dikson\n",
      "Processing Record 25 of Set 1 : muros\n",
      "City not found. Skipping...\n",
      "Processing Record 26 of Set 1 : rikitea\n",
      "Processing Record 27 of Set 1 : san quintin\n",
      "Processing Record 28 of Set 1 : pisco\n",
      "Processing Record 29 of Set 1 : san antonio\n",
      "Processing Record 30 of Set 1 : half moon bay\n",
      "Processing Record 31 of Set 1 : marsa matruh\n",
      "Processing Record 32 of Set 1 : tarsus\n",
      "Processing Record 33 of Set 1 : vrangel\n",
      "Processing Record 34 of Set 1 : nikolskoye\n",
      "Processing Record 35 of Set 1 : la macarena\n",
      "Processing Record 36 of Set 1 : upernavik\n",
      "Processing Record 37 of Set 1 : cidreira\n",
      "Processing Record 38 of Set 1 : cherskiy\n",
      "Processing Record 39 of Set 1 : coquimbo\n",
      "Processing Record 40 of Set 1 : oshnaviyeh\n",
      "Processing Record 41 of Set 1 : arraial do cabo\n",
      "Processing Record 42 of Set 1 : kapaa\n",
      "Processing Record 43 of Set 1 : luoyang\n",
      "Processing Record 44 of Set 1 : shingu\n",
      "Processing Record 45 of Set 1 : porto belo\n",
      "Processing Record 46 of Set 1 : sao filipe\n",
      "Processing Record 47 of Set 1 : panaba\n",
      "Processing Record 48 of Set 1 : port alfred\n",
      "Processing Record 49 of Set 1 : ust-maya\n",
      "Processing Record 50 of Set 1 : nadadores\n",
      "Processing Record 0 of Set 2 : napier\n",
      "City not found. Skipping...\n",
      "Processing Record 1 of Set 2 : thompson\n",
      "Processing Record 2 of Set 2 : kodiak\n",
      "Processing Record 3 of Set 2 : port elizabeth\n",
      "Processing Record 4 of Set 2 : kerugoya\n",
      "Processing Record 5 of Set 2 : hobart\n",
      "Processing Record 6 of Set 2 : tokur\n",
      "City not found. Skipping...\n",
      "Processing Record 7 of Set 2 : puerto ayora\n",
      "Processing Record 8 of Set 2 : bambous virieux\n",
      "City not found. Skipping...\n",
      "Processing Record 9 of Set 2 : georgetown\n",
      "Processing Record 10 of Set 2 : saint george\n",
      "Processing Record 11 of Set 2 : butaritari\n",
      "Processing Record 12 of Set 2 : hilo\n",
      "City not found. Skipping...\n",
      "Processing Record 13 of Set 2 : byron bay\n",
      "Processing Record 14 of Set 2 : lavrentiya\n",
      "Processing Record 15 of Set 2 : canico\n",
      "Processing Record 16 of Set 2 : yakeshi\n",
      "Processing Record 17 of Set 2 : zhigansk\n",
      "Processing Record 18 of Set 2 : banjarmasin\n",
      "Processing Record 19 of Set 2 : berdigestyakh\n",
      "Processing Record 20 of Set 2 : tambura\n",
      "Processing Record 21 of Set 2 : mirnyy\n",
      "Processing Record 22 of Set 2 : mandera\n",
      "Processing Record 23 of Set 2 : akureyri\n",
      "Processing Record 24 of Set 2 : narsaq\n",
      "Processing Record 25 of Set 2 : tasiilaq\n",
      "Processing Record 26 of Set 2 : avarua\n",
      "Processing Record 27 of Set 2 : barabai\n",
      "Processing Record 28 of Set 2 : cape town\n",
      "Processing Record 29 of Set 2 : pacific grove\n",
      "Processing Record 30 of Set 2 : kaeo\n",
      "Processing Record 31 of Set 2 : margate\n",
      "Processing Record 32 of Set 2 : severo-kurilsk\n",
      "Processing Record 33 of Set 2 : lagoa\n",
      "Processing Record 34 of Set 2 : longyearbyen\n",
      "Processing Record 35 of Set 2 : maragogi\n",
      "Processing Record 36 of Set 2 : isangel\n",
      "Processing Record 37 of Set 2 : muroto\n",
      "Processing Record 38 of Set 2 : finsterwalde\n",
      "Processing Record 39 of Set 2 : esperance\n",
      "Processing Record 40 of Set 2 : miraflores\n",
      "Processing Record 41 of Set 2 : gat\n",
      "Processing Record 42 of Set 2 : sibanicu\n",
      "Processing Record 43 of Set 2 : beroroha\n",
      "Processing Record 44 of Set 2 : norrtalje\n",
      "Processing Record 45 of Set 2 : lubu\n",
      "Processing Record 46 of Set 2 : mahebourg\n",
      "Processing Record 47 of Set 2 : sorso\n",
      "Processing Record 48 of Set 2 : katsuura\n",
      "Processing Record 49 of Set 2 : benghazi\n",
      "Processing Record 50 of Set 2 : baherden\n",
      "Processing Record 0 of Set 3 : lebu\n",
      "Processing Record 1 of Set 3 : pueblo nuevo\n",
      "Processing Record 2 of Set 3 : ukiah\n",
      "Processing Record 3 of Set 3 : faanui\n",
      "Processing Record 4 of Set 3 : haines junction\n",
      "Processing Record 5 of Set 3 : port-cartier\n",
      "Processing Record 6 of Set 3 : lumphat\n",
      "Processing Record 7 of Set 3 : marzuq\n",
      "Processing Record 8 of Set 3 : sao joao da barra\n",
      "Processing Record 9 of Set 3 : payson\n",
      "Processing Record 10 of Set 3 : jishou\n",
      "Processing Record 11 of Set 3 : laguna\n",
      "Processing Record 12 of Set 3 : albany\n",
      "Processing Record 13 of Set 3 : clyde river\n",
      "Processing Record 14 of Set 3 : mar del plata\n",
      "Processing Record 15 of Set 3 : poum\n",
      "Processing Record 16 of Set 3 : atuona\n",
      "City not found. Skipping...\n",
      "Processing Record 17 of Set 3 : cosala\n",
      "Processing Record 18 of Set 3 : pangoa\n",
      "Processing Record 19 of Set 3 : lorengau\n",
      "Processing Record 20 of Set 3 : yellowknife\n",
      "Processing Record 21 of Set 3 : isabela\n",
      "City not found. Skipping...\n",
      "Processing Record 22 of Set 3 : fethiye\n",
      "Processing Record 23 of Set 3 : saint-joseph\n",
      "Processing Record 24 of Set 3 : mujiayingzi\n",
      "Processing Record 25 of Set 3 : castro\n",
      "City not found. Skipping...\n",
      "Processing Record 26 of Set 3 : fort nelson\n",
      "Processing Record 27 of Set 3 : leningradskiy\n",
      "Processing Record 28 of Set 3 : srednekolymsk\n",
      "Processing Record 29 of Set 3 : hakkari\n",
      "City not found. Skipping...\n",
      "Processing Record 30 of Set 3 : eyl\n",
      "Processing Record 31 of Set 3 : puerto carreno\n",
      "Processing Record 32 of Set 3 : ostrovnoy\n",
      "Processing Record 33 of Set 3 : polson\n",
      "Processing Record 34 of Set 3 : ojinaga\n",
      "Processing Record 35 of Set 3 : chokurdakh\n",
      "Processing Record 36 of Set 3 : bluff\n",
      "Processing Record 37 of Set 3 : flic en flac\n",
      "Processing Record 38 of Set 3 : nalut\n",
      "Processing Record 39 of Set 3 : college\n",
      "Processing Record 40 of Set 3 : ballina\n",
      "Processing Record 41 of Set 3 : ekibastuz\n",
      "Processing Record 42 of Set 3 : gotsu\n",
      "Processing Record 43 of Set 3 : kasempa\n",
      "Processing Record 44 of Set 3 : codrington\n",
      "Processing Record 45 of Set 3 : mayo\n",
      "Processing Record 46 of Set 3 : la ronge\n",
      "Processing Record 47 of Set 3 : san juan\n",
      "City not found. Skipping...\n",
      "Processing Record 48 of Set 3 : lukoyanov\n",
      "Processing Record 49 of Set 3 : ahuimanu\n",
      "Processing Record 50 of Set 3 : opuwo\n",
      "Processing Record 0 of Set 4 : tigil\n",
      "Processing Record 1 of Set 4 : carnarvon\n",
      "Processing Record 2 of Set 4 : bredasdorp\n",
      "Processing Record 3 of Set 4 : east london\n",
      "Processing Record 4 of Set 4 : kabalo\n",
      "Processing Record 5 of Set 4 : homer\n",
      "Processing Record 6 of Set 4 : zhangye\n",
      "City not found. Skipping...\n",
      "Processing Record 7 of Set 4 : guerrero negro\n",
      "Processing Record 8 of Set 4 : saint-philippe\n",
      "Processing Record 9 of Set 4 : naryan-mar\n",
      "Processing Record 10 of Set 4 : emmett\n",
      "Processing Record 11 of Set 4 : qaanaaq\n",
      "Processing Record 12 of Set 4 : camopi\n",
      "Processing Record 13 of Set 4 : nantucket\n",
      "Processing Record 14 of Set 4 : qaqortoq\n",
      "Processing Record 15 of Set 4 : zarkos\n",
      "Processing Record 16 of Set 4 : ternate\n",
      "Processing Record 17 of Set 4 : chuy\n",
      "Processing Record 18 of Set 4 : whitehorse\n",
      "Processing Record 19 of Set 4 : lazaro cardenas\n",
      "Processing Record 20 of Set 4 : la libertad\n",
      "City not found. Skipping...\n",
      "Processing Record 21 of Set 4 : kruisfontein\n",
      "Processing Record 22 of Set 4 : booue\n",
      "Processing Record 23 of Set 4 : sorland\n",
      "Processing Record 24 of Set 4 : high level\n",
      "Processing Record 25 of Set 4 : khatanga\n",
      "Processing Record 26 of Set 4 : vila franca do campo\n",
      "Processing Record 27 of Set 4 : bilma\n",
      "Processing Record 28 of Set 4 : dinard\n",
      "Processing Record 29 of Set 4 : kavieng\n",
      "Processing Record 30 of Set 4 : urumqi\n",
      "Processing Record 31 of Set 4 : touros\n",
      "Processing Record 32 of Set 4 : effium\n",
      "Processing Record 33 of Set 4 : inongo\n",
      "Processing Record 34 of Set 4 : tuatapere\n",
      "Processing Record 35 of Set 4 : ancud\n",
      "Processing Record 36 of Set 4 : seoul\n",
      "Processing Record 37 of Set 4 : okato\n"
     ]
    },
    {
     "name": "stdout",
     "output_type": "stream",
     "text": [
      "Processing Record 38 of Set 4 : oksfjord\n",
      "Processing Record 39 of Set 4 : sao joaquim\n",
      "Processing Record 40 of Set 4 : omis\n",
      "Processing Record 41 of Set 4 : kamina\n",
      "Processing Record 42 of Set 4 : imbituba\n",
      "Processing Record 43 of Set 4 : katangli\n",
      "Processing Record 44 of Set 4 : hambantota\n",
      "Processing Record 45 of Set 4 : soc trang\n",
      "Processing Record 46 of Set 4 : uray\n",
      "Processing Record 47 of Set 4 : chernyakhovsk\n",
      "Processing Record 48 of Set 4 : harper\n",
      "Processing Record 49 of Set 4 : marfino\n",
      "Processing Record 50 of Set 4 : port hardy\n",
      "Processing Record 0 of Set 5 : nome\n",
      "Processing Record 1 of Set 5 : nabire\n",
      "Processing Record 2 of Set 5 : kintampo\n",
      "Processing Record 3 of Set 5 : yumen\n",
      "Processing Record 4 of Set 5 : devonport\n",
      "Processing Record 5 of Set 5 : troitskoye\n",
      "Processing Record 6 of Set 5 : hithadhoo\n",
      "Processing Record 7 of Set 5 : ishigaki\n",
      "Processing Record 8 of Set 5 : provideniya\n",
      "Processing Record 9 of Set 5 : nanortalik\n",
      "Processing Record 10 of Set 5 : guamuchil\n",
      "Processing Record 11 of Set 5 : marquette\n",
      "City not found. Skipping...\n",
      "Processing Record 12 of Set 5 : barrow\n",
      "Processing Record 13 of Set 5 : los llanos de aridane\n",
      "Processing Record 14 of Set 5 : mehran\n",
      "Processing Record 15 of Set 5 : bellavista\n",
      "Processing Record 16 of Set 5 : flinders\n",
      "Processing Record 17 of Set 5 : kinshasa\n",
      "City not found. Skipping...\n",
      "Processing Record 18 of Set 5 : tyukhtet\n",
      "Processing Record 19 of Set 5 : tiksi\n",
      "Processing Record 20 of Set 5 : kelamangalam\n",
      "Processing Record 21 of Set 5 : aksu\n",
      "Processing Record 22 of Set 5 : constitucion\n",
      "City not found. Skipping...\n",
      "Processing Record 23 of Set 5 : san patricio\n",
      "Processing Record 24 of Set 5 : cookeville\n",
      "Processing Record 25 of Set 5 : iwanai\n",
      "City not found. Skipping...\n",
      "Processing Record 26 of Set 5 : lexington\n",
      "Processing Record 27 of Set 5 : porto novo\n",
      "City not found. Skipping...\n",
      "Processing Record 28 of Set 5 : bontang\n",
      "Processing Record 29 of Set 5 : geraldton\n",
      "Processing Record 30 of Set 5 : chambishi\n",
      "Processing Record 31 of Set 5 : ronne\n",
      "Processing Record 32 of Set 5 : asau\n",
      "City not found. Skipping...\n",
      "Processing Record 33 of Set 5 : bengkulu\n",
      "Processing Record 34 of Set 5 : portland\n",
      "City not found. Skipping...\n",
      "Processing Record 35 of Set 5 : fairbanks\n",
      "Processing Record 36 of Set 5 : saskylakh\n",
      "Processing Record 37 of Set 5 : hukuntsi\n",
      "Processing Record 38 of Set 5 : hofn\n",
      "Processing Record 39 of Set 5 : lompoc\n",
      "Processing Record 40 of Set 5 : alofi\n",
      "Processing Record 41 of Set 5 : vieste\n",
      "Processing Record 42 of Set 5 : acapulco\n",
      "Processing Record 43 of Set 5 : ryotsu\n",
      "Processing Record 44 of Set 5 : modra\n",
      "Processing Record 45 of Set 5 : brigantine\n",
      "Processing Record 46 of Set 5 : lensk\n",
      "Processing Record 47 of Set 5 : marrakesh\n",
      "City not found. Skipping...\n",
      "Processing Record 48 of Set 5 : cedral\n",
      "Processing Record 49 of Set 5 : taoudenni\n",
      "City not found. Skipping...\n",
      "Processing Record 50 of Set 5 : maceio\n",
      "Processing Record 0 of Set 6 : borazjan\n",
      "Processing Record 1 of Set 6 : palana\n",
      "Processing Record 2 of Set 6 : pozo colorado\n",
      "Processing Record 3 of Set 6 : bilibino\n",
      "Processing Record 4 of Set 6 : ponta do sol\n",
      "Processing Record 5 of Set 6 : abalak\n",
      "Processing Record 6 of Set 6 : ahipara\n",
      "Processing Record 7 of Set 6 : onega\n",
      "Processing Record 8 of Set 6 : jaguarari\n",
      "Processing Record 9 of Set 6 : marawi\n",
      "Processing Record 10 of Set 6 : jackson\n",
      "Processing Record 11 of Set 6 : gasa\n",
      "Processing Record 12 of Set 6 : fare\n",
      "Processing Record 13 of Set 6 : aksarka\n",
      "Processing Record 14 of Set 6 : yarada\n",
      "Processing Record 15 of Set 6 : sola\n",
      "Processing Record 16 of Set 6 : houma\n",
      "Processing Record 17 of Set 6 : san-pedro\n",
      "Processing Record 18 of Set 6 : port blair\n",
      "Processing Record 19 of Set 6 : padang\n",
      "Processing Record 20 of Set 6 : victoria\n",
      "City not found. Skipping...\n",
      "Processing Record 21 of Set 6 : aykhal\n",
      "City not found. Skipping...\n",
      "Processing Record 22 of Set 6 : yulara\n",
      "Processing Record 23 of Set 6 : cabo san lucas\n",
      "Processing Record 24 of Set 6 : ilulissat\n",
      "City not found. Skipping...\n",
      "Processing Record 25 of Set 6 : brae\n",
      "Processing Record 26 of Set 6 : cayenne\n",
      "Processing Record 27 of Set 6 : souillac\n",
      "Processing Record 28 of Set 6 : ugoofaaru\n",
      "Processing Record 29 of Set 6 : ayan\n",
      "Processing Record 30 of Set 6 : qinhuangdao\n",
      "Processing Record 31 of Set 6 : bintulu\n",
      "Processing Record 32 of Set 6 : beloha\n",
      "Processing Record 33 of Set 6 : bethel\n",
      "Processing Record 34 of Set 6 : ust-ilimsk\n",
      "Processing Record 35 of Set 6 : benguela\n",
      "Processing Record 36 of Set 6 : albanel\n",
      "Processing Record 37 of Set 6 : ziarat\n",
      "Processing Record 38 of Set 6 : nakonde\n",
      "Processing Record 39 of Set 6 : houston\n",
      "Processing Record 40 of Set 6 : vila velha\n",
      "Processing Record 41 of Set 6 : torbay\n",
      "Processing Record 42 of Set 6 : eufaula\n",
      "Processing Record 43 of Set 6 : faya\n",
      "Processing Record 44 of Set 6 : paamiut\n",
      "City not found. Skipping...\n",
      "City not found. Skipping...\n",
      "Processing Record 45 of Set 6 : caravelas\n",
      "Processing Record 46 of Set 6 : bako\n",
      "Processing Record 47 of Set 6 : salme\n",
      "Processing Record 48 of Set 6 : khani\n",
      "Processing Record 49 of Set 6 : gromiljak\n",
      "Processing Record 50 of Set 6 : adrar\n",
      "Processing Record 0 of Set 7 : the valley\n",
      "Processing Record 1 of Set 7 : deer lake\n",
      "Processing Record 2 of Set 7 : luga\n",
      "Processing Record 3 of Set 7 : tatawin\n",
      "Processing Record 4 of Set 7 : kungurtug\n",
      "Processing Record 5 of Set 7 : honningsvag\n",
      "Processing Record 6 of Set 7 : quatre cocos\n",
      "Processing Record 7 of Set 7 : talnakh\n",
      "Processing Record 8 of Set 7 : dubrovnik\n",
      "Processing Record 9 of Set 7 : sturgis\n",
      "Processing Record 10 of Set 7 : hasaki\n",
      "Processing Record 11 of Set 7 : niort\n",
      "Processing Record 12 of Set 7 : makakilo city\n",
      "Processing Record 13 of Set 7 : kisesa\n",
      "Processing Record 14 of Set 7 : jalu\n",
      "Processing Record 15 of Set 7 : beringovskiy\n",
      "Processing Record 16 of Set 7 : tocopilla\n",
      "Processing Record 17 of Set 7 : comodoro rivadavia\n",
      "Processing Record 18 of Set 7 : gbarnga\n",
      "City not found. Skipping...\n",
      "Processing Record 19 of Set 7 : klaksvik\n",
      "Processing Record 20 of Set 7 : porto walter\n",
      "Processing Record 21 of Set 7 : pevek\n",
      "Processing Record 22 of Set 7 : ribeira grande\n",
      "Processing Record 23 of Set 7 : moosomin\n",
      "Processing Record 24 of Set 7 : tura\n",
      "Processing Record 25 of Set 7 : chipinge\n",
      "Processing Record 26 of Set 7 : monrovia\n",
      "Processing Record 27 of Set 7 : ulladulla\n",
      "Processing Record 28 of Set 7 : qandala\n",
      "Processing Record 29 of Set 7 : tatarsk\n",
      "Processing Record 30 of Set 7 : santa maria\n",
      "Processing Record 31 of Set 7 : ardakan\n",
      "Processing Record 32 of Set 7 : manokwari\n",
      "Processing Record 33 of Set 7 : shelburne\n",
      "Processing Record 34 of Set 7 : peniche\n",
      "Processing Record 35 of Set 7 : carutapera\n",
      "City not found. Skipping...\n",
      "Processing Record 36 of Set 7 : beeskow\n",
      "Processing Record 37 of Set 7 : norman wells\n",
      "Processing Record 38 of Set 7 : deputatskiy\n",
      "Processing Record 39 of Set 7 : morgan city\n",
      "Processing Record 40 of Set 7 : vestmannaeyjar\n",
      "Processing Record 41 of Set 7 : te anau\n",
      "Processing Record 42 of Set 7 : shimoda\n",
      "Processing Record 43 of Set 7 : stephenville crossing\n",
      "Processing Record 44 of Set 7 : taicheng\n",
      "Processing Record 45 of Set 7 : artyshta\n",
      "Processing Record 46 of Set 7 : santa cruz\n",
      "Processing Record 47 of Set 7 : asbe teferi\n",
      "Processing Record 48 of Set 7 : salinopolis\n",
      "Processing Record 49 of Set 7 : jaciara\n",
      "Processing Record 50 of Set 7 : san cristobal\n",
      "Processing Record 0 of Set 8 : petropavlovsk-kamchatskiy\n",
      "Processing Record 1 of Set 8 : matagami\n",
      "Processing Record 2 of Set 8 : vaitape\n",
      "Processing Record 3 of Set 8 : shilka\n",
      "Processing Record 4 of Set 8 : puerto escondido\n",
      "Processing Record 5 of Set 8 : conakry\n",
      "Processing Record 6 of Set 8 : mount isa\n",
      "Processing Record 7 of Set 8 : nouakchott\n",
      "Processing Record 8 of Set 8 : fortuna\n",
      "Processing Record 9 of Set 8 : aklavik\n",
      "Processing Record 10 of Set 8 : at-bashi\n",
      "Processing Record 11 of Set 8 : patacamaya\n",
      "Processing Record 12 of Set 8 : nueva loja\n",
      "Processing Record 13 of Set 8 : azangaro\n",
      "Processing Record 14 of Set 8 : airai\n",
      "City not found. Skipping...\n",
      "Processing Record 15 of Set 8 : takoradi\n",
      "City not found. Skipping...\n",
      "Processing Record 16 of Set 8 : abha\n",
      "Processing Record 17 of Set 8 : belvidere\n",
      "Processing Record 18 of Set 8 : meulaboh\n",
      "Processing Record 19 of Set 8 : cabedelo\n",
      "Processing Record 20 of Set 8 : puerto madryn\n",
      "Processing Record 21 of Set 8 : grand-santi\n"
     ]
    },
    {
     "name": "stdout",
     "output_type": "stream",
     "text": [
      "Processing Record 22 of Set 8 : mana\n",
      "Processing Record 23 of Set 8 : kazachinskoye\n",
      "Processing Record 24 of Set 8 : sabang\n",
      "Processing Record 25 of Set 8 : makaleng\n",
      "Processing Record 26 of Set 8 : saint-michel-des-saints\n",
      "City not found. Skipping...\n",
      "Processing Record 27 of Set 8 : mayumba\n",
      "Processing Record 28 of Set 8 : tabas\n",
      "Processing Record 29 of Set 8 : klyuchi\n",
      "Processing Record 30 of Set 8 : sao jose da coroa grande\n",
      "Processing Record 31 of Set 8 : vostok\n",
      "Processing Record 32 of Set 8 : sandakan\n",
      "Processing Record 33 of Set 8 : pangkalanbuun\n",
      "Processing Record 34 of Set 8 : bose\n",
      "City not found. Skipping...\n",
      "Processing Record 35 of Set 8 : mundo nuevo\n",
      "Processing Record 36 of Set 8 : vagur\n",
      "Processing Record 37 of Set 8 : shache\n",
      "Processing Record 38 of Set 8 : matara\n",
      "Processing Record 39 of Set 8 : nouadhibou\n",
      "Processing Record 40 of Set 8 : karlskoga\n",
      "City not found. Skipping...\n",
      "Processing Record 41 of Set 8 : inyonga\n",
      "Processing Record 42 of Set 8 : sorong\n",
      "Processing Record 43 of Set 8 : saldanha\n",
      "Processing Record 44 of Set 8 : tomatlan\n",
      "Processing Record 45 of Set 8 : manado\n",
      "Processing Record 46 of Set 8 : micheweni\n",
      "Processing Record 47 of Set 8 : ivdel\n",
      "Processing Record 48 of Set 8 : san policarpo\n",
      "Processing Record 49 of Set 8 : kloulklubed\n",
      "Processing Record 50 of Set 8 : baghdad\n",
      "City not found. Skipping...\n",
      "Processing Record 0 of Set 9 : gwadar\n",
      "Processing Record 1 of Set 9 : sibu\n",
      "Processing Record 2 of Set 9 : dingle\n",
      "Processing Record 3 of Set 9 : kankon\n",
      "City not found. Skipping...\n",
      "Processing Record 4 of Set 9 : fukue\n",
      "Processing Record 5 of Set 9 : krasnyy chikoy\n",
      "Processing Record 6 of Set 9 : jijiga\n",
      "Processing Record 7 of Set 9 : katobu\n",
      "Processing Record 8 of Set 9 : rio cuarto\n",
      "City not found. Skipping...\n",
      "Processing Record 9 of Set 9 : bathsheba\n",
      "Processing Record 10 of Set 9 : coihueco\n",
      "Processing Record 11 of Set 9 : alpena\n",
      "Processing Record 12 of Set 9 : safita\n",
      "Processing Record 13 of Set 9 : pindi bhattian\n",
      "Processing Record 14 of Set 9 : kavaratti\n",
      "Processing Record 15 of Set 9 : avera\n",
      "Processing Record 16 of Set 9 : cafelandia\n",
      "Processing Record 17 of Set 9 : bonavista\n",
      "Processing Record 18 of Set 9 : maningrida\n",
      "Processing Record 19 of Set 9 : kabala\n",
      "Processing Record 20 of Set 9 : deniliquin\n",
      "City not found. Skipping...\n",
      "Processing Record 21 of Set 9 : santarem\n",
      "Processing Record 22 of Set 9 : marienburg\n",
      "Processing Record 23 of Set 9 : namatanai\n",
      "Processing Record 24 of Set 9 : emerald\n",
      "Processing Record 25 of Set 9 : yeppoon\n",
      "Processing Record 26 of Set 9 : saint johnsbury\n",
      "City not found. Skipping...\n",
      "Processing Record 27 of Set 9 : loubomo\n",
      "City not found. Skipping...\n",
      "Processing Record 28 of Set 9 : strezhevoy\n",
      "Processing Record 29 of Set 9 : kudahuvadhoo\n",
      "Processing Record 30 of Set 9 : hobyo\n",
      "Processing Record 31 of Set 9 : olafsvik\n",
      "Processing Record 32 of Set 9 : nishihara\n",
      "City not found. Skipping...\n",
      "Processing Record 33 of Set 9 : shu\n",
      "Processing Record 34 of Set 9 : saint anthony\n",
      "Processing Record 35 of Set 9 : iquitos\n",
      "Processing Record 36 of Set 9 : pringsewu\n",
      "Processing Record 37 of Set 9 : konya\n",
      "City not found. Skipping...\n",
      "Processing Record 38 of Set 9 : guangyuan\n",
      "Processing Record 39 of Set 9 : dakar\n",
      "Processing Record 40 of Set 9 : ornskoldsvik\n",
      "Processing Record 41 of Set 9 : kahului\n",
      "Processing Record 42 of Set 9 : roswell\n",
      "Processing Record 43 of Set 9 : dubti\n",
      "Processing Record 44 of Set 9 : korla\n",
      "Processing Record 45 of Set 9 : kantunilkin\n",
      "Processing Record 46 of Set 9 : nanakuli\n",
      "Processing Record 47 of Set 9 : tommot\n",
      "Processing Record 48 of Set 9 : masunga\n",
      "Processing Record 49 of Set 9 : storsteinnes\n",
      "Processing Record 50 of Set 9 : colesberg\n",
      "Processing Record 0 of Set 10 : nogliki\n",
      "Processing Record 1 of Set 10 : rosa zarate\n",
      "Processing Record 2 of Set 10 : portales\n",
      "Processing Record 3 of Set 10 : lekoni\n",
      "City not found. Skipping...\n",
      "Processing Record 4 of Set 10 : dhidhdhoo\n",
      "City not found. Skipping...\n",
      "Processing Record 5 of Set 10 : southwick\n",
      "Processing Record 6 of Set 10 : erie\n",
      "Processing Record 7 of Set 10 : innisfail\n",
      "Processing Record 8 of Set 10 : abu dhabi\n",
      "Processing Record 9 of Set 10 : chara\n",
      "Processing Record 10 of Set 10 : aswan\n",
      "Processing Record 11 of Set 10 : noumea\n",
      "Processing Record 12 of Set 10 : solnechnyy\n",
      "Processing Record 13 of Set 10 : huarmey\n",
      "Processing Record 14 of Set 10 : lakes entrance\n",
      "Processing Record 15 of Set 10 : hualmay\n",
      "Processing Record 16 of Set 10 : umm lajj\n",
      "Processing Record 17 of Set 10 : kisangani\n",
      "Processing Record 18 of Set 10 : isiro\n",
      "Processing Record 19 of Set 10 : chaiya\n",
      "Processing Record 20 of Set 10 : astaneh-ye ashrafiyeh\n",
      "Processing Record 21 of Set 10 : ziyang\n",
      "Processing Record 22 of Set 10 : baruun-urt\n",
      "Processing Record 23 of Set 10 : waipawa\n",
      "Processing Record 24 of Set 10 : arlit\n",
      "Processing Record 25 of Set 10 : chekhov\n",
      "Processing Record 26 of Set 10 : atasu\n",
      "Processing Record 27 of Set 10 : moree\n",
      "City not found. Skipping...\n",
      "Processing Record 28 of Set 10 : tsabong\n",
      "Processing Record 29 of Set 10 : ust-ishim\n",
      "Processing Record 30 of Set 10 : pontes e lacerda\n",
      "Processing Record 31 of Set 10 : hokitika\n",
      "Processing Record 32 of Set 10 : grand gaube\n",
      "Processing Record 33 of Set 10 : salalah\n",
      "Processing Record 34 of Set 10 : tiznit\n",
      "Processing Record 35 of Set 10 : kupang\n",
      "City not found. Skipping...\n",
      "Processing Record 36 of Set 10 : salem\n",
      "Processing Record 37 of Set 10 : rawson\n",
      "Processing Record 38 of Set 10 : tamworth\n",
      "Processing Record 39 of Set 10 : santa cruz de tenerife\n",
      "Processing Record 40 of Set 10 : meridian\n",
      "Processing Record 41 of Set 10 : sibolga\n",
      "Processing Record 42 of Set 10 : fairlie\n",
      "Processing Record 43 of Set 10 : boa vista\n",
      "Processing Record 44 of Set 10 : colgong\n",
      "Processing Record 45 of Set 10 : ust-tsilma\n",
      "Processing Record 46 of Set 10 : nuuk\n",
      "Processing Record 47 of Set 10 : oranjestad\n",
      "Processing Record 48 of Set 10 : celestun\n",
      "Processing Record 49 of Set 10 : vanimo\n",
      "Processing Record 50 of Set 10 : kamenka\n",
      "Processing Record 0 of Set 11 : ferrol\n",
      "Processing Record 1 of Set 11 : adavere\n",
      "City not found. Skipping...\n",
      "Processing Record 2 of Set 11 : tromso\n",
      "Processing Record 3 of Set 11 : labuhan\n",
      "Processing Record 4 of Set 11 : mossendjo\n",
      "Processing Record 5 of Set 11 : ippy\n",
      "Processing Record 6 of Set 11 : vao\n",
      "Processing Record 7 of Set 11 : angra dos reis\n",
      "Processing Record 8 of Set 11 : santa cruz de la palma\n",
      "Processing Record 9 of Set 11 : basco\n",
      "Processing Record 10 of Set 11 : linqiong\n",
      "Processing Record 11 of Set 11 : liwale\n",
      "City not found. Skipping...\n",
      "Processing Record 12 of Set 11 : mari-turek\n",
      "Processing Record 13 of Set 11 : severnoye\n",
      "Processing Record 14 of Set 11 : general pico\n",
      "Processing Record 15 of Set 11 : szentistvan\n",
      "Processing Record 16 of Set 11 : nha trang\n",
      "Processing Record 17 of Set 11 : miri\n",
      "Processing Record 18 of Set 11 : davila\n",
      "Processing Record 19 of Set 11 : lincoln\n",
      "Processing Record 20 of Set 11 : balite\n",
      "Processing Record 21 of Set 11 : altus\n",
      "Processing Record 22 of Set 11 : haverfordwest\n",
      "Processing Record 23 of Set 11 : tautira\n",
      "Processing Record 24 of Set 11 : spring hill\n",
      "Processing Record 25 of Set 11 : gobabis\n",
      "Processing Record 26 of Set 11 : bachaquero\n",
      "Processing Record 27 of Set 11 : ciudad guayana\n",
      "Processing Record 28 of Set 11 : armizonskoye\n",
      "Processing Record 29 of Set 11 : battle creek\n",
      "Processing Record 30 of Set 11 : hamilton\n",
      "Processing Record 31 of Set 11 : sinjai\n",
      "Processing Record 32 of Set 11 : indiaroba\n",
      "Processing Record 33 of Set 11 : keti bandar\n",
      "City not found. Skipping...\n",
      "Processing Record 34 of Set 11 : greeley\n",
      "Processing Record 35 of Set 11 : teahupoo\n",
      "Processing Record 36 of Set 11 : ayr\n",
      "Processing Record 37 of Set 11 : wagga wagga\n",
      "Processing Record 38 of Set 11 : tecoanapa\n",
      "Processing Record 39 of Set 11 : balaguer\n",
      "Processing Record 40 of Set 11 : gilbues\n",
      "Processing Record 41 of Set 11 : were ilu\n",
      "Processing Record 42 of Set 11 : huicheng\n",
      "Processing Record 43 of Set 11 : zachary\n",
      "Processing Record 44 of Set 11 : sampit\n",
      "Processing Record 45 of Set 11 : bardiyah\n",
      "Processing Record 46 of Set 11 : cap malheureux\n",
      "Processing Record 47 of Set 11 : sidrolandia\n",
      "City not found. Skipping...\n",
      "-----------------------------\n",
      "Data Retrieval Complete\n",
      "-----------------------------\n"
     ]
    }
   ],
   "source": [
    "print(\"Beginning Data Retrieval \")\n",
    "print(\"-----------------------------\")\n",
    "\n",
    "base_url = \"http://api.openweathermap.org/data/2.5/weather?\"\n",
    "units = \"imperial\"\n",
    "query_url = f\"{base_url}appid={api_key}&units={units}&q=\"\n",
    "\n",
    "for index, city in enumerate(cities, start = 1):\n",
    "    try:\n",
    "        response = requests.get(query_url + city).json()\n",
    "        city_name_list.append(response[\"name\"])\n",
    "        cloudiness_list.append(response[\"clouds\"][\"all\"])\n",
    "        country_list.append(response[\"sys\"][\"country\"])\n",
    "        date_list.append(response[\"dt\"])\n",
    "        humidity_list.append(response[\"main\"][\"humidity\"])\n",
    "        lat_list.append(response[\"coord\"][\"lat\"])\n",
    "        lng_list.append(response[\"coord\"][\"lon\"])\n",
    "        max_temp_list.append(response['main']['temp_max'])\n",
    "        wind_speed_list.append(response[\"wind\"][\"speed\"])\n",
    "        if index_counter > 49:\n",
    "            index_counter = 0\n",
    "            set_counter = set_counter + 1\n",
    "    \n",
    "        else:\n",
    "            index_counter = index_counter + 1\n",
    "            \n",
    "        print(f\"Processing Record {index_counter} of Set {set_counter} : {city}\") \n",
    "  \n",
    "    except(KeyError, IndexError):\n",
    "        print(\"City not found. Skipping...\")\n",
    "\n",
    "print(\"-----------------------------\")\n",
    "print(\"Data Retrieval Complete\")\n",
    "print(\"-----------------------------\")"
   ]
  },
  {
   "cell_type": "markdown",
   "metadata": {},
   "source": [
    "### Convert Raw Data to DataFrame\n",
    "* Export the city data into a .csv.\n",
    "* Display the DataFrame"
   ]
  },
  {
   "cell_type": "code",
   "execution_count": 23,
   "metadata": {},
   "outputs": [
    {
     "data": {
      "text/html": [
       "<div>\n",
       "<style scoped>\n",
       "    .dataframe tbody tr th:only-of-type {\n",
       "        vertical-align: middle;\n",
       "    }\n",
       "\n",
       "    .dataframe tbody tr th {\n",
       "        vertical-align: top;\n",
       "    }\n",
       "\n",
       "    .dataframe thead th {\n",
       "        text-align: right;\n",
       "    }\n",
       "</style>\n",
       "<table border=\"1\" class=\"dataframe\">\n",
       "  <thead>\n",
       "    <tr style=\"text-align: right;\">\n",
       "      <th></th>\n",
       "      <th>City</th>\n",
       "      <th>Cloudiness</th>\n",
       "      <th>Country</th>\n",
       "      <th>Date</th>\n",
       "      <th>Humidity</th>\n",
       "      <th>Lat</th>\n",
       "      <th>Lng</th>\n",
       "      <th>Max Temp</th>\n",
       "      <th>Wind Speed</th>\n",
       "    </tr>\n",
       "  </thead>\n",
       "  <tbody>\n",
       "    <tr>\n",
       "      <th>0</th>\n",
       "      <td>Ushuaia</td>\n",
       "      <td>0</td>\n",
       "      <td>AR</td>\n",
       "      <td>1619054789</td>\n",
       "      <td>57</td>\n",
       "      <td>-54.8000</td>\n",
       "      <td>-68.3000</td>\n",
       "      <td>44.60</td>\n",
       "      <td>8.05</td>\n",
       "    </tr>\n",
       "    <tr>\n",
       "      <th>1</th>\n",
       "      <td>Tuktoyaktuk</td>\n",
       "      <td>20</td>\n",
       "      <td>CA</td>\n",
       "      <td>1619054901</td>\n",
       "      <td>79</td>\n",
       "      <td>69.4541</td>\n",
       "      <td>-133.0374</td>\n",
       "      <td>12.20</td>\n",
       "      <td>21.85</td>\n",
       "    </tr>\n",
       "    <tr>\n",
       "      <th>2</th>\n",
       "      <td>Hermanus</td>\n",
       "      <td>73</td>\n",
       "      <td>ZA</td>\n",
       "      <td>1619054901</td>\n",
       "      <td>86</td>\n",
       "      <td>-34.4187</td>\n",
       "      <td>19.2345</td>\n",
       "      <td>66.99</td>\n",
       "      <td>8.01</td>\n",
       "    </tr>\n",
       "    <tr>\n",
       "      <th>3</th>\n",
       "      <td>Mataura</td>\n",
       "      <td>75</td>\n",
       "      <td>NZ</td>\n",
       "      <td>1619054711</td>\n",
       "      <td>84</td>\n",
       "      <td>-46.1927</td>\n",
       "      <td>168.8643</td>\n",
       "      <td>55.00</td>\n",
       "      <td>1.01</td>\n",
       "    </tr>\n",
       "    <tr>\n",
       "      <th>4</th>\n",
       "      <td>Port Hedland</td>\n",
       "      <td>6</td>\n",
       "      <td>AU</td>\n",
       "      <td>1619054693</td>\n",
       "      <td>13</td>\n",
       "      <td>-20.3167</td>\n",
       "      <td>118.5667</td>\n",
       "      <td>87.80</td>\n",
       "      <td>19.57</td>\n",
       "    </tr>\n",
       "    <tr>\n",
       "      <th>...</th>\n",
       "      <td>...</td>\n",
       "      <td>...</td>\n",
       "      <td>...</td>\n",
       "      <td>...</td>\n",
       "      <td>...</td>\n",
       "      <td>...</td>\n",
       "      <td>...</td>\n",
       "      <td>...</td>\n",
       "      <td>...</td>\n",
       "    </tr>\n",
       "    <tr>\n",
       "      <th>552</th>\n",
       "      <td>Zachary</td>\n",
       "      <td>1</td>\n",
       "      <td>US</td>\n",
       "      <td>1619055026</td>\n",
       "      <td>44</td>\n",
       "      <td>30.6485</td>\n",
       "      <td>-91.1565</td>\n",
       "      <td>57.20</td>\n",
       "      <td>5.75</td>\n",
       "    </tr>\n",
       "    <tr>\n",
       "      <th>553</th>\n",
       "      <td>Sampit</td>\n",
       "      <td>97</td>\n",
       "      <td>ID</td>\n",
       "      <td>1619055026</td>\n",
       "      <td>57</td>\n",
       "      <td>-2.5333</td>\n",
       "      <td>112.9500</td>\n",
       "      <td>86.65</td>\n",
       "      <td>4.36</td>\n",
       "    </tr>\n",
       "    <tr>\n",
       "      <th>554</th>\n",
       "      <td>Al Bardīyah</td>\n",
       "      <td>0</td>\n",
       "      <td>LY</td>\n",
       "      <td>1619055026</td>\n",
       "      <td>71</td>\n",
       "      <td>31.7561</td>\n",
       "      <td>25.0865</td>\n",
       "      <td>58.41</td>\n",
       "      <td>8.81</td>\n",
       "    </tr>\n",
       "    <tr>\n",
       "      <th>555</th>\n",
       "      <td>Cap Malheureux</td>\n",
       "      <td>98</td>\n",
       "      <td>MU</td>\n",
       "      <td>1619055026</td>\n",
       "      <td>85</td>\n",
       "      <td>-19.9842</td>\n",
       "      <td>57.6142</td>\n",
       "      <td>77.00</td>\n",
       "      <td>3.00</td>\n",
       "    </tr>\n",
       "    <tr>\n",
       "      <th>556</th>\n",
       "      <td>Sidrolândia</td>\n",
       "      <td>0</td>\n",
       "      <td>BR</td>\n",
       "      <td>1619055027</td>\n",
       "      <td>49</td>\n",
       "      <td>-20.9319</td>\n",
       "      <td>-54.9614</td>\n",
       "      <td>73.40</td>\n",
       "      <td>6.91</td>\n",
       "    </tr>\n",
       "  </tbody>\n",
       "</table>\n",
       "<p>557 rows × 9 columns</p>\n",
       "</div>"
      ],
      "text/plain": [
       "               City  Cloudiness Country        Date  Humidity      Lat  \\\n",
       "0           Ushuaia           0      AR  1619054789        57 -54.8000   \n",
       "1       Tuktoyaktuk          20      CA  1619054901        79  69.4541   \n",
       "2          Hermanus          73      ZA  1619054901        86 -34.4187   \n",
       "3           Mataura          75      NZ  1619054711        84 -46.1927   \n",
       "4      Port Hedland           6      AU  1619054693        13 -20.3167   \n",
       "..              ...         ...     ...         ...       ...      ...   \n",
       "552         Zachary           1      US  1619055026        44  30.6485   \n",
       "553          Sampit          97      ID  1619055026        57  -2.5333   \n",
       "554     Al Bardīyah           0      LY  1619055026        71  31.7561   \n",
       "555  Cap Malheureux          98      MU  1619055026        85 -19.9842   \n",
       "556     Sidrolândia           0      BR  1619055027        49 -20.9319   \n",
       "\n",
       "          Lng  Max Temp  Wind Speed  \n",
       "0    -68.3000     44.60        8.05  \n",
       "1   -133.0374     12.20       21.85  \n",
       "2     19.2345     66.99        8.01  \n",
       "3    168.8643     55.00        1.01  \n",
       "4    118.5667     87.80       19.57  \n",
       "..        ...       ...         ...  \n",
       "552  -91.1565     57.20        5.75  \n",
       "553  112.9500     86.65        4.36  \n",
       "554   25.0865     58.41        8.81  \n",
       "555   57.6142     77.00        3.00  \n",
       "556  -54.9614     73.40        6.91  \n",
       "\n",
       "[557 rows x 9 columns]"
      ]
     },
     "execution_count": 23,
     "metadata": {},
     "output_type": "execute_result"
    }
   ],
   "source": [
    "weather_dict = pd.DataFrame({ \n",
    "                \"City\" : city_name_list,\n",
    "                \"Cloudiness\" : cloudiness_list,\n",
    "                \"Country\" : country_list,\n",
    "                \"Date\" : date_list,\n",
    "                \"Humidity\" : humidity_list,\n",
    "                \"Lat\" : lat_list,\n",
    "                \"Lng\" : lng_list,\n",
    "                \"Max Temp\" : max_temp_list,\n",
    "                \"Wind Speed\" : wind_speed_list\n",
    "})\n",
    "weather_dict"
   ]
  },
  {
   "cell_type": "code",
   "execution_count": 22,
   "metadata": {},
   "outputs": [
    {
     "data": {
      "text/plain": [
       "City          557\n",
       "Cloudiness    557\n",
       "Country       557\n",
       "Date          557\n",
       "Humidity      557\n",
       "Lat           557\n",
       "Lng           557\n",
       "Max Temp      557\n",
       "Wind Speed    557\n",
       "dtype: int64"
      ]
     },
     "execution_count": 22,
     "metadata": {},
     "output_type": "execute_result"
    }
   ],
   "source": [
    "weather_dict.count()"
   ]
  },
  {
   "cell_type": "markdown",
   "metadata": {},
   "source": [
    "## Inspect the data and remove the cities where the humidity > 100%.\n",
    "----\n",
    "Skip this step if there are no cities that have humidity > 100%. "
   ]
  },
  {
   "cell_type": "code",
   "execution_count": 6,
   "metadata": {},
   "outputs": [
    {
     "data": {
      "text/html": [
       "<div>\n",
       "<style scoped>\n",
       "    .dataframe tbody tr th:only-of-type {\n",
       "        vertical-align: middle;\n",
       "    }\n",
       "\n",
       "    .dataframe tbody tr th {\n",
       "        vertical-align: top;\n",
       "    }\n",
       "\n",
       "    .dataframe thead th {\n",
       "        text-align: right;\n",
       "    }\n",
       "</style>\n",
       "<table border=\"1\" class=\"dataframe\">\n",
       "  <thead>\n",
       "    <tr style=\"text-align: right;\">\n",
       "      <th></th>\n",
       "      <th>Lat</th>\n",
       "      <th>Lng</th>\n",
       "      <th>Max Temp</th>\n",
       "      <th>Humidity</th>\n",
       "      <th>Cloudiness</th>\n",
       "      <th>Wind Speed</th>\n",
       "      <th>Date</th>\n",
       "    </tr>\n",
       "  </thead>\n",
       "  <tbody>\n",
       "    <tr>\n",
       "      <th>count</th>\n",
       "      <td>550.000000</td>\n",
       "      <td>550.000000</td>\n",
       "      <td>550.000000</td>\n",
       "      <td>550.000000</td>\n",
       "      <td>550.000000</td>\n",
       "      <td>550.000000</td>\n",
       "      <td>5.500000e+02</td>\n",
       "    </tr>\n",
       "    <tr>\n",
       "      <th>mean</th>\n",
       "      <td>19.973545</td>\n",
       "      <td>17.124400</td>\n",
       "      <td>58.331400</td>\n",
       "      <td>67.890909</td>\n",
       "      <td>52.141818</td>\n",
       "      <td>8.544800</td>\n",
       "      <td>1.585764e+09</td>\n",
       "    </tr>\n",
       "    <tr>\n",
       "      <th>std</th>\n",
       "      <td>33.284840</td>\n",
       "      <td>91.595451</td>\n",
       "      <td>25.795297</td>\n",
       "      <td>20.864881</td>\n",
       "      <td>35.766469</td>\n",
       "      <td>6.078869</td>\n",
       "      <td>5.539674e+01</td>\n",
       "    </tr>\n",
       "    <tr>\n",
       "      <th>min</th>\n",
       "      <td>-54.800000</td>\n",
       "      <td>-179.170000</td>\n",
       "      <td>-11.340000</td>\n",
       "      <td>9.000000</td>\n",
       "      <td>0.000000</td>\n",
       "      <td>0.160000</td>\n",
       "      <td>1.585764e+09</td>\n",
       "    </tr>\n",
       "    <tr>\n",
       "      <th>25%</th>\n",
       "      <td>-8.077500</td>\n",
       "      <td>-64.627500</td>\n",
       "      <td>42.800000</td>\n",
       "      <td>55.000000</td>\n",
       "      <td>20.000000</td>\n",
       "      <td>4.525000</td>\n",
       "      <td>1.585764e+09</td>\n",
       "    </tr>\n",
       "    <tr>\n",
       "      <th>50%</th>\n",
       "      <td>23.630000</td>\n",
       "      <td>19.635000</td>\n",
       "      <td>64.940000</td>\n",
       "      <td>72.000000</td>\n",
       "      <td>57.000000</td>\n",
       "      <td>7.325000</td>\n",
       "      <td>1.585764e+09</td>\n",
       "    </tr>\n",
       "    <tr>\n",
       "      <th>75%</th>\n",
       "      <td>48.672500</td>\n",
       "      <td>97.350000</td>\n",
       "      <td>78.800000</td>\n",
       "      <td>83.000000</td>\n",
       "      <td>86.750000</td>\n",
       "      <td>11.410000</td>\n",
       "      <td>1.585764e+09</td>\n",
       "    </tr>\n",
       "    <tr>\n",
       "      <th>max</th>\n",
       "      <td>78.220000</td>\n",
       "      <td>179.320000</td>\n",
       "      <td>102.200000</td>\n",
       "      <td>100.000000</td>\n",
       "      <td>100.000000</td>\n",
       "      <td>46.080000</td>\n",
       "      <td>1.585764e+09</td>\n",
       "    </tr>\n",
       "  </tbody>\n",
       "</table>\n",
       "</div>"
      ],
      "text/plain": [
       "              Lat         Lng    Max Temp    Humidity  Cloudiness  Wind Speed  \\\n",
       "count  550.000000  550.000000  550.000000  550.000000  550.000000  550.000000   \n",
       "mean    19.973545   17.124400   58.331400   67.890909   52.141818    8.544800   \n",
       "std     33.284840   91.595451   25.795297   20.864881   35.766469    6.078869   \n",
       "min    -54.800000 -179.170000  -11.340000    9.000000    0.000000    0.160000   \n",
       "25%     -8.077500  -64.627500   42.800000   55.000000   20.000000    4.525000   \n",
       "50%     23.630000   19.635000   64.940000   72.000000   57.000000    7.325000   \n",
       "75%     48.672500   97.350000   78.800000   83.000000   86.750000   11.410000   \n",
       "max     78.220000  179.320000  102.200000  100.000000  100.000000   46.080000   \n",
       "\n",
       "               Date  \n",
       "count  5.500000e+02  \n",
       "mean   1.585764e+09  \n",
       "std    5.539674e+01  \n",
       "min    1.585764e+09  \n",
       "25%    1.585764e+09  \n",
       "50%    1.585764e+09  \n",
       "75%    1.585764e+09  \n",
       "max    1.585764e+09  "
      ]
     },
     "execution_count": 6,
     "metadata": {},
     "output_type": "execute_result"
    }
   ],
   "source": []
  },
  {
   "cell_type": "code",
   "execution_count": 17,
   "metadata": {},
   "outputs": [
    {
     "data": {
      "text/plain": [
       "Int64Index([], dtype='int64')"
      ]
     },
     "execution_count": 17,
     "metadata": {},
     "output_type": "execute_result"
    }
   ],
   "source": [
    "#  Get the indices of cities that have humidity over 100%.\n"
   ]
  },
  {
   "cell_type": "code",
   "execution_count": 19,
   "metadata": {},
   "outputs": [
    {
     "data": {
      "text/html": [
       "<div>\n",
       "<style scoped>\n",
       "    .dataframe tbody tr th:only-of-type {\n",
       "        vertical-align: middle;\n",
       "    }\n",
       "\n",
       "    .dataframe tbody tr th {\n",
       "        vertical-align: top;\n",
       "    }\n",
       "\n",
       "    .dataframe thead th {\n",
       "        text-align: right;\n",
       "    }\n",
       "</style>\n",
       "<table border=\"1\" class=\"dataframe\">\n",
       "  <thead>\n",
       "    <tr style=\"text-align: right;\">\n",
       "      <th></th>\n",
       "      <th>City</th>\n",
       "      <th>Lat</th>\n",
       "      <th>Lng</th>\n",
       "      <th>Max Temp</th>\n",
       "      <th>Humidity</th>\n",
       "      <th>Cloudiness</th>\n",
       "      <th>Wind Speed</th>\n",
       "      <th>Country</th>\n",
       "      <th>Date</th>\n",
       "    </tr>\n",
       "  </thead>\n",
       "  <tbody>\n",
       "    <tr>\n",
       "      <td>0</td>\n",
       "      <td>butaritari</td>\n",
       "      <td>3.07</td>\n",
       "      <td>172.79</td>\n",
       "      <td>83.32</td>\n",
       "      <td>74</td>\n",
       "      <td>84</td>\n",
       "      <td>10.42</td>\n",
       "      <td>KI</td>\n",
       "      <td>1593605283</td>\n",
       "    </tr>\n",
       "    <tr>\n",
       "      <td>1</td>\n",
       "      <td>yerbogachen</td>\n",
       "      <td>61.28</td>\n",
       "      <td>108.01</td>\n",
       "      <td>79.52</td>\n",
       "      <td>58</td>\n",
       "      <td>20</td>\n",
       "      <td>7.70</td>\n",
       "      <td>RU</td>\n",
       "      <td>1593605121</td>\n",
       "    </tr>\n",
       "    <tr>\n",
       "      <td>2</td>\n",
       "      <td>cape town</td>\n",
       "      <td>-33.93</td>\n",
       "      <td>18.42</td>\n",
       "      <td>73.00</td>\n",
       "      <td>77</td>\n",
       "      <td>27</td>\n",
       "      <td>4.70</td>\n",
       "      <td>ZA</td>\n",
       "      <td>1593605039</td>\n",
       "    </tr>\n",
       "    <tr>\n",
       "      <td>3</td>\n",
       "      <td>touba</td>\n",
       "      <td>8.28</td>\n",
       "      <td>-7.68</td>\n",
       "      <td>79.97</td>\n",
       "      <td>75</td>\n",
       "      <td>82</td>\n",
       "      <td>3.58</td>\n",
       "      <td>CI</td>\n",
       "      <td>1593605284</td>\n",
       "    </tr>\n",
       "    <tr>\n",
       "      <td>4</td>\n",
       "      <td>jamestown</td>\n",
       "      <td>42.10</td>\n",
       "      <td>-79.24</td>\n",
       "      <td>64.00</td>\n",
       "      <td>88</td>\n",
       "      <td>1</td>\n",
       "      <td>6.93</td>\n",
       "      <td>US</td>\n",
       "      <td>1593605284</td>\n",
       "    </tr>\n",
       "  </tbody>\n",
       "</table>\n",
       "</div>"
      ],
      "text/plain": [
       "          City    Lat     Lng  Max Temp  Humidity  Cloudiness  Wind Speed  \\\n",
       "0   butaritari   3.07  172.79     83.32        74          84       10.42   \n",
       "1  yerbogachen  61.28  108.01     79.52        58          20        7.70   \n",
       "2    cape town -33.93   18.42     73.00        77          27        4.70   \n",
       "3        touba   8.28   -7.68     79.97        75          82        3.58   \n",
       "4    jamestown  42.10  -79.24     64.00        88           1        6.93   \n",
       "\n",
       "  Country        Date  \n",
       "0      KI  1593605283  \n",
       "1      RU  1593605121  \n",
       "2      ZA  1593605039  \n",
       "3      CI  1593605284  \n",
       "4      US  1593605284  "
      ]
     },
     "execution_count": 19,
     "metadata": {},
     "output_type": "execute_result"
    }
   ],
   "source": [
    "# Make a new DataFrame equal to the city data to drop all humidity outliers by index.\n",
    "# Passing \"inplace=False\" will make a copy of the city_data DataFrame, which we call \"clean_city_data\".\n"
   ]
  },
  {
   "cell_type": "code",
   "execution_count": null,
   "metadata": {},
   "outputs": [],
   "source": [
    "\n"
   ]
  },
  {
   "cell_type": "markdown",
   "metadata": {},
   "source": [
    "## Plotting the Data\n",
    "* Use proper labeling of the plots using plot titles (including date of analysis) and axes labels.\n",
    "* Save the plotted figures as .pngs."
   ]
  },
  {
   "cell_type": "markdown",
   "metadata": {},
   "source": [
    "## Latitude vs. Temperature Plot"
   ]
  },
  {
   "cell_type": "code",
   "execution_count": 24,
   "metadata": {
    "scrolled": true
   },
   "outputs": [
    {
     "data": {
      "text/plain": [
       "<matplotlib.collections.PathCollection at 0x7fe30305b5e0>"
      ]
     },
     "execution_count": 24,
     "metadata": {},
     "output_type": "execute_result"
    },
    {
     "data": {
      "image/png": "[encoded data removed]",
      "text/plain": [
       "<Figure size 432x288 with 1 Axes>"
      ]
     },
     "metadata": {
      "needs_background": "light"
     },
     "output_type": "display_data"
    }
   ],
   "source": [
    "plt.scatter(weather_dict[\"Lat\"], weather_dict[\"Max Temp\"], facecolor = \"steelblue\", edgecolor = \"black\")"
   ]
  },
  {
   "cell_type": "markdown",
   "metadata": {},
   "source": [
    "## Latitude vs. Humidity Plot"
   ]
  },
  {
   "cell_type": "code",
   "execution_count": 25,
   "metadata": {},
   "outputs": [
    {
     "data": {
      "text/plain": [
       "<matplotlib.collections.PathCollection at 0x7fe3030f16a0>"
      ]
     },
     "execution_count": 25,
     "metadata": {},
     "output_type": "execute_result"
    },
    {
     "data": {
      "image/png": "[encoded data removed]",
      "text/plain": [
       "<Figure size 432x288 with 1 Axes>"
      ]
     },
     "metadata": {
      "needs_background": "light"
     },
     "output_type": "display_data"
    }
   ],
   "source": [
    "plt.scatter(weather_dict[\"Lat\"], weather_dict[\"Humidity\"], facecolor = \"steelblue\", edgecolor = \"black\")"
   ]
  },
  {
   "cell_type": "markdown",
   "metadata": {},
   "source": [
    "## Latitude vs. Cloudiness Plot"
   ]
  },
  {
   "cell_type": "code",
   "execution_count": 26,
   "metadata": {},
   "outputs": [
    {
     "data": {
      "text/plain": [
       "<matplotlib.collections.PathCollection at 0x7fe303167b50>"
      ]
     },
     "execution_count": 26,
     "metadata": {},
     "output_type": "execute_result"
    },
    {
     "data": {
      "image/png": "[encoded data removed]",
      "text/plain": [
       "<Figure size 432x288 with 1 Axes>"
      ]
     },
     "metadata": {
      "needs_background": "light"
     },
     "output_type": "display_data"
    }
   ],
   "source": [
    "plt.scatter(weather_dict[\"Lat\"], weather_dict[\"Cloudiness\"], facecolor = \"steelblue\", edgecolor = \"black\")"
   ]
  },
  {
   "cell_type": "markdown",
   "metadata": {},
   "source": [
    "## Latitude vs. Wind Speed Plot"
   ]
  },
  {
   "cell_type": "code",
   "execution_count": 27,
   "metadata": {},
   "outputs": [
    {
     "data": {
      "text/plain": [
       "<matplotlib.collections.PathCollection at 0x7fe3031937c0>"
      ]
     },
     "execution_count": 27,
     "metadata": {},
     "output_type": "execute_result"
    },
    {
     "data": {
      "image/png": "[encoded data removed]",
      "text/plain": [
       "<Figure size 432x288 with 1 Axes>"
      ]
     },
     "metadata": {
      "needs_background": "light"
     },
     "output_type": "display_data"
    }
   ],
   "source": [
    "plt.scatter(weather_dict[\"Lat\"], weather_dict[\"Wind Speed\"], facecolor = \"steelblue\", edgecolor = \"black\")"
   ]
  },
  {
   "cell_type": "markdown",
   "metadata": {},
   "source": [
    "## Linear Regression"
   ]
  },
  {
   "cell_type": "code",
   "execution_count": 24,
   "metadata": {},
   "outputs": [],
   "source": []
  },
  {
   "cell_type": "markdown",
   "metadata": {},
   "source": [
    "####  Northern Hemisphere - Max Temp vs. Latitude Linear Regression"
   ]
  },
  {
   "cell_type": "code",
   "execution_count": 28,
   "metadata": {},
   "outputs": [],
   "source": [
    "northern_hemisphere = weather_dict.loc[weather_dict[\"Lat\"] >= 0]"
   ]
  },
  {
   "cell_type": "markdown",
   "metadata": {},
   "source": [
    "####  Southern Hemisphere - Max Temp vs. Latitude Linear Regression"
   ]
  },
  {
   "cell_type": "code",
   "execution_count": 29,
   "metadata": {},
   "outputs": [],
   "source": [
    "southern_hemisphere = weather_dict.loc[weather_dict[\"Lat\"] < 0]"
   ]
  },
  {
   "cell_type": "markdown",
   "metadata": {},
   "source": [
    "####  Northern Hemisphere - Humidity (%) vs. Latitude Linear Regression"
   ]
  },
  {
   "cell_type": "code",
   "execution_count": 32,
   "metadata": {},
   "outputs": [
    {
     "ename": "NameError",
     "evalue": "name 'linear_regression' is not defined",
     "output_type": "error",
     "traceback": [
      "\u001b[0;31m---------------------------------------------------------------------------\u001b[0m",
      "\u001b[0;31mNameError\u001b[0m                                 Traceback (most recent call last)",
      "\u001b[0;32m<ipython-input-32-73a657a8ea63>\u001b[0m in \u001b[0;36m<module>\u001b[0;34m\u001b[0m\n\u001b[0;32m----> 1\u001b[0;31m \u001b[0mequation\u001b[0m \u001b[0;34m=\u001b[0m \u001b[0mlinear_regression\u001b[0m\u001b[0;34m(\u001b[0m\u001b[0mnorthern_hemisphere\u001b[0m\u001b[0;34m[\u001b[0m\u001b[0;34m\"Lat\"\u001b[0m\u001b[0;34m]\u001b[0m\u001b[0;34m,\u001b[0m \u001b[0mnorthern_hemisphere\u001b[0m\u001b[0;34m[\u001b[0m\u001b[0;34m\"Max Temp\"\u001b[0m\u001b[0;34m]\u001b[0m\u001b[0;34m)\u001b[0m\u001b[0;34m\u001b[0m\u001b[0;34m\u001b[0m\u001b[0m\n\u001b[0m\u001b[1;32m      2\u001b[0m \u001b[0;34m\u001b[0m\u001b[0m\n\u001b[1;32m      3\u001b[0m \u001b[0mannotate\u001b[0m\u001b[0;34m(\u001b[0m\u001b[0mequation\u001b[0m\u001b[0;34m,\u001b[0m \u001b[0;36m0\u001b[0m\u001b[0;34m,\u001b[0m \u001b[0;36m0\u001b[0m\u001b[0;34m)\u001b[0m\u001b[0;34m\u001b[0m\u001b[0;34m\u001b[0m\u001b[0m\n",
      "\u001b[0;31mNameError\u001b[0m: name 'linear_regression' is not defined"
     ]
    }
   ],
   "source": []
  },
  {
   "cell_type": "markdown",
   "metadata": {},
   "source": [
    "####  Southern Hemisphere - Humidity (%) vs. Latitude Linear Regression"
   ]
  },
  {
   "cell_type": "code",
   "execution_count": 28,
   "metadata": {},
   "outputs": [
    {
     "name": "stdout",
     "output_type": "stream",
     "text": [
      "The r-value is: 0.014985174297345524\n"
     ]
    },
    {
     "data": {
      "image/png": "[encoded data removed]",
      "text/plain": [
       "<Figure size 432x288 with 1 Axes>"
      ]
     },
     "metadata": {
      "needs_background": "light"
     },
     "output_type": "display_data"
    }
   ],
   "source": []
  },
  {
   "cell_type": "markdown",
   "metadata": {},
   "source": [
    "####  Northern Hemisphere - Cloudiness (%) vs. Latitude Linear Regression"
   ]
  },
  {
   "cell_type": "code",
   "execution_count": 29,
   "metadata": {},
   "outputs": [
    {
     "name": "stdout",
     "output_type": "stream",
     "text": [
      "The r-value is: 0.0020898727664228514\n"
     ]
    },
    {
     "data": {
      "image/png": "[encoded data removed]",
      "text/plain": [
       "<Figure size 432x288 with 1 Axes>"
      ]
     },
     "metadata": {
      "needs_background": "light"
     },
     "output_type": "display_data"
    }
   ],
   "source": []
  },
  {
   "cell_type": "markdown",
   "metadata": {},
   "source": [
    "####  Southern Hemisphere - Cloudiness (%) vs. Latitude Linear Regression"
   ]
  },
  {
   "cell_type": "code",
   "execution_count": 30,
   "metadata": {},
   "outputs": [
    {
     "name": "stdout",
     "output_type": "stream",
     "text": [
      "The r-value is: 0.0035263772085582894\n"
     ]
    },
    {
     "data": {
      "image/png": "[encoded data removed]",
      "text/plain": [
       "<Figure size 432x288 with 1 Axes>"
      ]
     },
     "metadata": {
      "needs_background": "light"
     },
     "output_type": "display_data"
    }
   ],
   "source": []
  },
  {
   "cell_type": "markdown",
   "metadata": {},
   "source": [
    "####  Northern Hemisphere - Wind Speed (mph) vs. Latitude Linear Regression"
   ]
  },
  {
   "cell_type": "code",
   "execution_count": 31,
   "metadata": {},
   "outputs": [
    {
     "name": "stdout",
     "output_type": "stream",
     "text": [
      "The r-value is: 0.04019723576144484\n"
     ]
    },
    {
     "data": {
      "image/png": "[encoded data removed]",
      "text/plain": [
       "<Figure size 432x288 with 1 Axes>"
      ]
     },
     "metadata": {
      "needs_background": "light"
     },
     "output_type": "display_data"
    }
   ],
   "source": []
  },
  {
   "cell_type": "markdown",
   "metadata": {},
   "source": [
    "####  Southern Hemisphere - Wind Speed (mph) vs. Latitude Linear Regression"
   ]
  },
  {
   "cell_type": "code",
   "execution_count": 32,
   "metadata": {},
   "outputs": [
    {
     "name": "stdout",
     "output_type": "stream",
     "text": [
      "The r-value is: 0.017128274759839232\n"
     ]
    },
    {
     "data": {
      "image/png": "[encoded data removed]",
      "text/plain": [
       "<Figure size 432x288 with 1 Axes>"
      ]
     },
     "metadata": {
      "needs_background": "light"
     },
     "output_type": "display_data"
    }
   ],
   "source": []
  },
  {
   "cell_type": "code",
   "execution_count": null,
   "metadata": {},
   "outputs": [],
   "source": []
  }
 ],
 "metadata": {
  "anaconda-cloud": {},
  "kernel_info": {
   "name": "python3"
  },
  "kernelspec": {
   "display_name": "Python 3",
   "language": "python",
   "name": "python3"
  },
  "language_info": {
   "codemirror_mode": {
    "name": "ipython",
    "version": 3
   },
   "file_extension": ".py",
   "mimetype": "text/x-python",
   "name": "python",
   "nbconvert_exporter": "python",
   "pygments_lexer": "ipython3",
   "version": "3.8.3"
  },
  "latex_envs": {
   "LaTeX_envs_menu_present": true,
   "autoclose": false,
   "autocomplete": true,
   "bibliofile": "biblio.bib",
   "cite_by": "apalike",
   "current_citInitial": 1,
   "eqLabelWithNumbers": true,
   "eqNumInitial": 1,
   "hotkeys": {
    "equation": "Ctrl-E",
    "itemize": "Ctrl-I"
   },
   "labels_anchors": false,
   "latex_user_defs": false,
   "report_style_numbering": false,
   "user_envs_cfg": false
  },
  "nteract": {
   "version": "0.12.3"
  }
 },
 "nbformat": 4,
 "nbformat_minor": 2
}
